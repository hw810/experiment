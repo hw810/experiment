{
 "metadata": {
  "celltoolbar": "Slideshow",
  "name": "",
  "signature": "sha256:b6262f4629d58870ea8e3179378e48b4e25b4918b8c8c604864e128c10a534bc"
 },
 "nbformat": 3,
 "nbformat_minor": 0,
 "worksheets": [
  {
   "cells": [
    {
     "cell_type": "code",
     "collapsed": false,
     "input": [
      "import random as rnd\n",
      "import pandas as pd\n",
      "\n",
      "%matplotlib inline"
     ],
     "language": "python",
     "metadata": {
      "slideshow": {
       "slide_type": "slide"
      }
     },
     "outputs": [],
     "prompt_number": 4
    },
    {
     "cell_type": "code",
     "collapsed": false,
     "input": [
      "def guess_one_number(x, start, end):\n",
      "    count = 0\n",
      "    while (end - start) > 2:\n",
      "        count += 1\n",
      "        g = rnd.randrange(start, end)\n",
      "#         print g\n",
      "        if g > x:\n",
      "            end = g\n",
      "        elif g == x:\n",
      "            end = x\n",
      "            start = x\n",
      "        else:\n",
      "            start = g\n",
      "    return count"
     ],
     "language": "python",
     "metadata": {
      "slideshow": {
       "slide_type": "subslide"
      }
     },
     "outputs": [],
     "prompt_number": 5
    },
    {
     "cell_type": "code",
     "collapsed": false,
     "input": [
      "x = 234\n",
      "start = 0\n",
      "end = 1000\n",
      "n_iterates = 10000\n",
      "li_count = []\n",
      "for i in xrange(n_iterates):\n",
      "        li_count.append(guess_one_number(x, start, end))\n",
      "df_count = pd.DataFrame(li_count)\n",
      "\n",
      "df_count[0].hist()"
     ],
     "language": "python",
     "metadata": {
      "slideshow": {
       "slide_type": "slide"
      }
     },
     "outputs": [
      {
       "metadata": {},
       "output_type": "pyout",
       "prompt_number": 3,
       "text": [
        "<matplotlib.axes.AxesSubplot at 0x10dace090>"
       ]
      },
      {
       "metadata": {},
       "output_type": "display_data",
       "png": "[encoded data removed]",
       "text": [
        "<matplotlib.figure.Figure at 0x10daccad0>"
       ]
      }
     ],
     "prompt_number": 3
    }
   ],
   "metadata": {}
  }
 ]
}