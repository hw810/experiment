{
 "metadata": {
  "name": "",
  "signature": "sha256:eb9904c22d932086a00d92458023aa1ef277b97143cf8484079c22ba88e791ad"
 },
 "nbformat": 3,
 "nbformat_minor": 0,
 "worksheets": [
  {
   "cells": [
    {
     "cell_type": "code",
     "collapsed": false,
     "input": [
      "import random as rnd\n",
      "import pandas as pd\n",
      "\n",
      "%matplotlib inline"
     ],
     "language": "python",
     "metadata": {},
     "outputs": [],
     "prompt_number": 1
    },
    {
     "cell_type": "code",
     "collapsed": false,
     "input": [
      "def guess_one_number(x, start, end):\n",
      "    count = 0\n",
      "    while (end - start) > 2:\n",
      "        count += 1\n",
      "        g = rnd.randrange(start, end)\n",
      "#         print g\n",
      "        if g > x:\n",
      "            end = g\n",
      "        elif g == x:\n",
      "            end = x\n",
      "            start = x\n",
      "        else:\n",
      "            start = g\n",
      "    return count"
     ],
     "language": "python",
     "metadata": {},
     "outputs": [],
     "prompt_number": 3
    },
    {
     "cell_type": "code",
     "collapsed": false,
     "input": [
      "x = 123\n",
      "start = 0\n",
      "end = 1000\n",
      "n_iterates = 10000\n",
      "li_count = []\n",
      "for i in xrange(n_iterates):\n",
      "        li_count.append(guess_one_number(x, start, end))\n",
      "df_count = pd.DataFrame(li_count)\n",
      "\n",
      "df_count[0].hist()"
     ],
     "language": "python",
     "metadata": {},
     "outputs": [
      {
       "metadata": {},
       "output_type": "pyout",
       "prompt_number": 23,
       "text": [
        "<matplotlib.axes.AxesSubplot at 0x11355f950>"
       ]
      },
      {
       "metadata": {},
       "output_type": "display_data",
       "png": "[encoded data removed]",
       "text": [
        "<matplotlib.figure.Figure at 0x112d2eb90>"
       ]
      }
     ],
     "prompt_number": 23
    }
   ],
   "metadata": {}
  }
 ]
}